{
  "nbformat": 4,
  "nbformat_minor": 0,
  "metadata": {
    "colab": {
      "provenance": []
    },
    "kernelspec": {
      "name": "python3",
      "display_name": "Python 3"
    },
    "language_info": {
      "name": "python"
    }
  },
  "cells": [
    {
      "cell_type": "code",
      "execution_count": 10,
      "metadata": {
        "id": "StD5W0pMYkd9"
      },
      "outputs": [],
      "source": [
        "import pandas as pd\n",
        "import seaborn as sns\n",
        "import os\n",
        "file_path = 'drive/MyDrive/UTEIS/5-uteis/'"
      ]
    },
    {
      "cell_type": "code",
      "source": [
        "files = [os.path.join(file_path, f) for f in os.listdir(file_path)]"
      ],
      "metadata": {
        "id": "d6kBsQ0PjlGG"
      },
      "execution_count": 11,
      "outputs": []
    },
    {
      "cell_type": "code",
      "source": [
        "files"
      ],
      "metadata": {
        "colab": {
          "base_uri": "https://localhost:8080/"
        },
        "id": "w4wsdciyjuDX",
        "outputId": "32d436e1-9b2b-430e-ae37-b24dbd45a549"
      },
      "execution_count": 12,
      "outputs": [
        {
          "output_type": "execute_result",
          "data": {
            "text/plain": [
              "['drive/MyDrive/UTEIS/5-uteis/Tabela 5.2 (Obitos_Geo).xlsm',\n",
              " 'drive/MyDrive/UTEIS/5-uteis/Tabela 5.44 (Prof_GeriatraGeo).xls',\n",
              " 'drive/MyDrive/UTEIS/5-uteis/Tabela 5.45 (Prof_OncologistaGeo).xls',\n",
              " 'drive/MyDrive/UTEIS/5-uteis/Tabela 5.43 (Prof_CardioGeo).xls',\n",
              " 'drive/MyDrive/UTEIS/5-uteis/Tabela 5.23 (Leit_ComplSUS_Geo).xls',\n",
              " 'drive/MyDrive/UTEIS/5-uteis/Tabela 5.22 (Leit_ComplTot_Geo).xls',\n",
              " 'drive/MyDrive/UTEIS/5-uteis/Tabela 5.38 (Prof_FamiliaGeo).xls',\n",
              " 'drive/MyDrive/UTEIS/5-uteis/Tabela 5.39 (Prof_PediatGeo).xls',\n",
              " 'drive/MyDrive/UTEIS/5-uteis/Tabela 5.24 (Leit_ComplNaoSUS_Geo).xls',\n",
              " 'drive/MyDrive/UTEIS/5-uteis/Tabela 5.31 (Prof_MedicosGeo).xls',\n",
              " 'drive/MyDrive/UTEIS/5-uteis/Tabela 5.35 (Prof_CirurgGeo).xls',\n",
              " 'drive/MyDrive/UTEIS/5-uteis/Tabela 5.46 (Prof_PneumoGeo).xls',\n",
              " 'drive/MyDrive/UTEIS/5-uteis/Tabela 5.34 (Prof_AnestGeo).xls',\n",
              " 'drive/MyDrive/UTEIS/5-uteis/Tabela 5.41 (Prof_RadioGeo).xls',\n",
              " 'drive/MyDrive/UTEIS/5-uteis/Tabela 5.32 (Prof_EnfermGeo).xls',\n",
              " 'drive/MyDrive/UTEIS/5-uteis/Tabela 5.33 (Prof_TecGeo).xls',\n",
              " 'drive/MyDrive/UTEIS/5-uteis/Tabela 5.21 (Leit_IntNaoSUS_Geo).xls',\n",
              " 'drive/MyDrive/UTEIS/5-uteis/Tabela 5.37 (Prof_GinecoGeo).xls',\n",
              " 'drive/MyDrive/UTEIS/5-uteis/Tabela 5.40 (Prof_PsiqGeo).xls',\n",
              " 'drive/MyDrive/UTEIS/5-uteis/Tabela 5.47 (Prof_NeuroGeo).xls',\n",
              " 'drive/MyDrive/UTEIS/5-uteis/Tabela 5.48 (Benef_Plano_Geo).xls',\n",
              " 'drive/MyDrive/UTEIS/5-uteis/Tabela 5.36 (Prof_ClinicoGeo).xlsm',\n",
              " 'drive/MyDrive/UTEIS/5-uteis/parsing_scripts']"
            ]
          },
          "metadata": {},
          "execution_count": 12
        }
      ]
    },
    {
      "cell_type": "code",
      "source": [
        "def parsing_5_2():\n",
        "  \"\"\"\n",
        "  Parsing tabela 'Tabela 5.2 (Obitos_Geo).xlsm'\n",
        "  \"\"\"\n",
        "  df = pd.read_excel(files[0], skiprows=7)\n",
        "  df = df.drop(index=[len(df)-2,len(df)-1],axis='rows')\n",
        "  cols = ['Total', '0 a 14', '15 a 29 anos', '30 a 44 anos' , '45 a 59 anos', '60 anos ou mais', '60 a 69 anos', '70 anos ou mais']\n",
        "  suffix = [ '',\n",
        "          'Doenças hipertensivas, isquemicas do coração, insuficiência cardíaca e cerebrovasculares',\n",
        "          'Neoplasias malignas',\n",
        "          'Acidentes, agressões e lesões autoprovocadas intencionalmente',\n",
        "          'Influenza [gripe] e pneumonia',\n",
        "          'Infecção por coronavírus de localização não especificada',\n",
        "          ]\n",
        "\n",
        "\n",
        "  combinations =  cols.copy()\n",
        "  for s in suffix:\n",
        "    if s != '':\n",
        "      for c in cols:\n",
        "        combinations.append(c + '_' + s)\n",
        "\n",
        "  df = df.set_index(df.columns[0])\n",
        "  df.columns = combinations\n",
        "  return df"
      ],
      "metadata": {
        "id": "Ow11llclkNHY"
      },
      "execution_count": 116,
      "outputs": []
    },
    {
      "cell_type": "code",
      "source": [
        "def parsing_5_44():\n",
        "  \"\"\"\n",
        "  Parsing tabela 'Tabela 5.44 (Prof_GeriatraGeo).xls'\n",
        "  \"\"\"\n",
        "  df = pd.read_excel(files[1], skiprows=4)\n",
        "  df = df.set_index(df.columns[0])\n",
        "  df.columns = [ \"_\".join([\"numero_medio_mensal_de_geriatras\", str(c)]) for c in df.columns]\n",
        "  df = df.drop(df.tail(5).index)\n",
        "  return df"
      ],
      "metadata": {
        "id": "RQ35WJ7EksrQ"
      },
      "execution_count": 117,
      "outputs": []
    },
    {
      "cell_type": "code",
      "source": [
        "def parsing_5_45():\n",
        "  \"\"\"\n",
        "  Parsing tabela 'Tabela 5.45 (Prof_OncologistaGeo).xls'\n",
        "  \"\"\"\n",
        "  df = pd.read_excel(files[2], skiprows=4)\n",
        "  df = df.set_index(df.columns[0])\n",
        "  df.columns = [ \"_\".join([\"numero_medio_mensal_de_oncologistas\", str(c)]) for c in df.columns]\n",
        "  df = df.drop(df.tail(5).index)\n",
        "  return df"
      ],
      "metadata": {
        "id": "rxUYy-kOoXZJ"
      },
      "execution_count": 118,
      "outputs": []
    },
    {
      "cell_type": "code",
      "source": [
        "def parsing_5_43():\n",
        "  \"\"\"\n",
        "  Parsing tabela 'Tabela 5.43 (Prof_CardioGeo).xls'\n",
        "  \"\"\"\n",
        "  df = pd.read_excel(files[3], skiprows=4)\n",
        "  df = df.set_index(df.columns[0])\n",
        "  df.columns = [ \"_\".join([\"numero_medio_mensal_de_cardiologista\", str(c)]) for c in df.columns]\n",
        "  df = df.drop(df.tail(5).index)\n",
        "  return df\n"
      ],
      "metadata": {
        "id": "bX9u3SNlppuN"
      },
      "execution_count": 119,
      "outputs": []
    },
    {
      "cell_type": "code",
      "source": [
        "def parsing_5_23():\n",
        "  \"\"\"\n",
        "  Parsing tabela 'Tabela 5.23 (Leit_ComplSUS_Geo).xls'\n",
        "  \"\"\"\n",
        "  df = pd.read_excel(files[4], skiprows=4)\n",
        "  df = df.set_index(df.columns[0])\n",
        "  df.columns = [ \"_\".join([\"numero_mensal_medio_de_leitos_complementares_pelo_sus\", str(c)]) for c in df.columns]\n",
        "  df = df.drop(df.tail(7).index)\n",
        "  return df"
      ],
      "metadata": {
        "id": "HITCY7EErNNz"
      },
      "execution_count": 120,
      "outputs": []
    },
    {
      "cell_type": "code",
      "source": [
        "def parsing_5_22():\n",
        "  \"\"\"\n",
        "  Parsing tabela 'Tabela 5.22 (Leit_ComplTot_Geo).xls'\n",
        "  \"\"\"\n",
        "  df = pd.read_excel(files[5], skiprows=4)\n",
        "  df = df.set_index(df.columns[0])\n",
        "  df.columns = [ \"_\".join([\"numero_mensal_medio_de_leitos_complementares\", str(c)]) for c in df.columns]\n",
        "  df = df.drop(df.tail(7).index)\n",
        "  return df"
      ],
      "metadata": {
        "id": "f1BEumFusVh6"
      },
      "execution_count": 121,
      "outputs": []
    },
    {
      "cell_type": "code",
      "source": [
        "def parsing_5_38():\n",
        "  \"\"\"\n",
        "  Parsing tabela 'Tabela 5.38 (Prof_FamiliaGeo).xls'\n",
        "  \"\"\"\n",
        "  df = pd.read_excel(files[6], skiprows=4)\n",
        "  df = df.set_index(df.columns[0])\n",
        "  df.columns = [ \"_\".join([\"numero_medio_mensal_de_medicos_de_familia\", str(c)]) for c in df.columns]\n",
        "  df = df.drop(df.tail(3).index)\n",
        "  return df"
      ],
      "metadata": {
        "id": "Hh6BGbNbs1xO"
      },
      "execution_count": 122,
      "outputs": []
    },
    {
      "cell_type": "code",
      "source": [
        "def parsing_5_39():\n",
        "  \"\"\"\n",
        "  Parsing tabela 'Tabela 5.39 (Prof_PediatGeo).xls'\n",
        "  \"\"\"\n",
        "  df = pd.read_excel(files[7], skiprows=4)\n",
        "  df = df.set_index(df.columns[0])\n",
        "  df.columns = [ \"_\".join([\"numero_medio_mensal_de_medicos_pediatras\", str(c)]) for c in df.columns]\n",
        "  df = df.drop(df.tail(5).index)\n",
        "  return df"
      ],
      "metadata": {
        "id": "q2ep0-nbtUHu"
      },
      "execution_count": 123,
      "outputs": []
    },
    {
      "cell_type": "code",
      "source": [
        "def parsing_5_24():\n",
        "  \"\"\"\n",
        "  Parsing tabela 'Tabela 5.24 (Leit_ComplNaoSUS_Geo).xls'\n",
        "  \"\"\"\n",
        "  df = pd.read_excel(files[8], skiprows=4)\n",
        "  df = df.set_index(df.columns[0])\n",
        "  df.columns = [ \"_\".join([\"numero_mensal_medio_de_leitos_complementares_nao_sus\", str(c)]) for c in df.columns]\n",
        "  df = df.drop(df.tail(7).index)\n",
        "  return df"
      ],
      "metadata": {
        "id": "_aCAUGyOs9uF"
      },
      "execution_count": 124,
      "outputs": []
    },
    {
      "cell_type": "code",
      "source": [
        "def parsing_5_31():\n",
        "  \"\"\"\n",
        "  Parsing tabela 'Tabela 5.31 (Prof_MedicosGeo).xls'\n",
        "  \"\"\"\n",
        "  df = pd.read_excel(files[9], skiprows=4)\n",
        "  df = df.set_index(df.columns[0])\n",
        "  df.columns = [ \"_\".join([\"numero_medio_mensal_de_medicos\", str(c)]) for c in df.columns]\n",
        "  df = df.drop(df.tail(5).index)\n",
        "  return df"
      ],
      "metadata": {
        "id": "wtnM5QrVvniF"
      },
      "execution_count": 125,
      "outputs": []
    },
    {
      "cell_type": "code",
      "source": [
        "def parsing_5_35():\n",
        "  \"\"\"\n",
        "  Parsing tabela 'Tabela 5.35 (Prof_CirurgGeo).xls'\n",
        "  \"\"\"\n",
        "  df = pd.read_excel(files[10], skiprows=4)\n",
        "  df = df.set_index(df.columns[0])\n",
        "  df.columns = [ \"_\".join([\"numero_medio_mensal_de_cirurgioes_gerais\", str(c)]) for c in df.columns]\n",
        "  df = df.drop(df.tail(3).index)\n",
        "  return df"
      ],
      "metadata": {
        "id": "_rbyzB9Kv_8j"
      },
      "execution_count": 126,
      "outputs": []
    },
    {
      "cell_type": "code",
      "source": [
        "def parsing_5_46():\n",
        "  \"\"\"\n",
        "  Parsing tabela 'Tabela 5.46 (Prof_PneumoGeo).xls'\n",
        "  \"\"\"\n",
        "  df = pd.read_excel(files[11], skiprows=4)\n",
        "  df = df.set_index(df.columns[0])\n",
        "  df.columns = [ \"_\".join([\"numero_medio_mensal_de_pneumologistas_e_otorrinolaringologista\", str(c)]) for c in df.columns]\n",
        "  df = df.drop(df.tail(3).index)\n",
        "  return df"
      ],
      "metadata": {
        "id": "3dEdRfXEwfVt"
      },
      "execution_count": 127,
      "outputs": []
    },
    {
      "cell_type": "code",
      "source": [
        "def parsing_5_34():\n",
        "  \"\"\"\n",
        "  Parsing tabela 'Tabela 5.34 (Prof_AnestGeo).xls'\n",
        "  \"\"\"\n",
        "  df = pd.read_excel(files[12], skiprows=4)\n",
        "  df = df.set_index(df.columns[0])\n",
        "  df.columns = [ \"_\".join([\"numero_medio_mensal_de_medico_anestesista\", str(c)]) for c in df.columns]\n",
        "  df = df.drop(df.tail(3).index)\n",
        "  return df"
      ],
      "metadata": {
        "id": "iccSS8UWxvr3"
      },
      "execution_count": 130,
      "outputs": []
    },
    {
      "cell_type": "code",
      "source": [
        "def parsing_5_41():\n",
        "  \"\"\"\n",
        "  Parsing tabela 'Tabela 5.41 (Prof_RadioGeo).xls'\n",
        "  \"\"\"\n",
        "  df = pd.read_excel(files[13], skiprows=4)\n",
        "  df = df.set_index(df.columns[0])\n",
        "  df.columns = [ \"_\".join([\"numero_medio_mensal_de_medicos_radiologistas\", str(c)]) for c in df.columns]\n",
        "  df = df.drop(df.tail(3).index)\n",
        "  return df"
      ],
      "metadata": {
        "id": "gxIgHgutyyTE"
      },
      "execution_count": 134,
      "outputs": []
    },
    {
      "cell_type": "code",
      "source": [
        "def parsing_5_32():\n",
        "  \"\"\"\n",
        "  Parsing tabela 'Tabela 5.32 (Prof_EnfermGeo).xls'\n",
        "  \"\"\"\n",
        "  df = pd.read_excel(files[14], skiprows=4)\n",
        "  df = df.set_index(df.columns[0])\n",
        "  df.columns = [ \"_\".join([\"numero_medio_mensal_de_enfermeiros\", str(c)]) for c in df.columns]\n",
        "  df = df.drop(df.tail(5).index)\n",
        "  return df"
      ],
      "metadata": {
        "id": "jWEtc7QQzp3h"
      },
      "execution_count": 137,
      "outputs": []
    },
    {
      "cell_type": "code",
      "source": [
        "def parsing_5_33():\n",
        "  \"\"\"\n",
        "  Parsing tabela 'Tabela 5.33 (Prof_TecGeo).xls'\n",
        "  \"\"\"\n",
        "  df = pd.read_excel(files[15], skiprows=4)\n",
        "  df = df.set_index(df.columns[0])\n",
        "  df.columns = [ \"_\".join([\"numero_medio_mensal_de_tecnicos_e_auxiliares\", str(c)]) for c in df.columns]\n",
        "  df = df.drop(df.tail(5).index)\n",
        "  return df"
      ],
      "metadata": {
        "id": "dibIxj41z_xZ"
      },
      "execution_count": 141,
      "outputs": []
    },
    {
      "cell_type": "code",
      "source": [
        "def parsing_5_21():\n",
        "  \"\"\"\n",
        "  Parsing tabela 'Tabela 5.21 (Leit_IntNaoSUS_Geo).xls'\n",
        "  \"\"\"\n",
        "  df = pd.read_excel(files[16], skiprows=4)\n",
        "  df = df.set_index(df.columns[0])\n",
        "  df.columns = [ \"_\".join([\"numero_mensal_medio_de_leitos_por_atendimento_nao_sus\", str(c)]) for c in df.columns]\n",
        "  df = df.drop(df.tail(6).index)\n",
        "  return df"
      ],
      "metadata": {
        "id": "xtOBu8bF0lGS"
      },
      "execution_count": 146,
      "outputs": []
    },
    {
      "cell_type": "code",
      "source": [
        "def parsing_5_37():\n",
        "  \"\"\"\n",
        "  Parsing tabela 'Tabela 5.37 (Prof_GinecoGeo).xls'\n",
        "  \"\"\"\n",
        "  df = pd.read_excel(files[17], skiprows=4)\n",
        "  df = df.set_index(df.columns[0])\n",
        "  df.columns = [ \"_\".join([\"numero_medio_mensal_de_medicos_gineco_obstetras\", str(c)]) for c in df.columns]\n",
        "  df = df.drop(df.tail(3).index)\n",
        "  return df"
      ],
      "metadata": {
        "id": "JGrALLhP1IZP"
      },
      "execution_count": 149,
      "outputs": []
    },
    {
      "cell_type": "code",
      "source": [
        "def parsing_5_40():\n",
        "  \"\"\"\n",
        "  Parsing tabela 'Tabela 5.40 (Prof_PsiqGeo).xls'\n",
        "  \"\"\"\n",
        "  df = pd.read_excel(files[18], skiprows=4)\n",
        "  df = df.set_index(df.columns[0])\n",
        "  df.columns = [ \"_\".join([\"numero_medio_mensal_de_medicos_psiquiatras\", str(c)]) for c in df.columns]\n",
        "  df = df.drop(df.tail(3).index)\n",
        "  return df"
      ],
      "metadata": {
        "id": "s-NU8wTh1hr3"
      },
      "execution_count": 157,
      "outputs": []
    },
    {
      "cell_type": "code",
      "source": [
        "def parsing_5_47():\n",
        "  \"\"\"\n",
        "  Parsing tabela 'Tabela 5.47 (Prof_NeuroGeo).xls'\n",
        "  \"\"\"\n",
        "  df = pd.read_excel(files[19], skiprows=4)\n",
        "  df = df.set_index(df.columns[0])\n",
        "  df.columns = [ \"_\".join([\"numero_medio_mensal_de_medicos_neurologistas\", str(c)]) for c in df.columns]\n",
        "  df = df.drop(df.tail(5).index)\n",
        "  return df"
      ],
      "metadata": {
        "id": "OiD-Hwa21_bv"
      },
      "execution_count": 164,
      "outputs": []
    },
    {
      "cell_type": "code",
      "source": [
        "def parsing_5_48():\n",
        "  \"\"\"\n",
        "  Parsing tabela 'Tabela 5.48 (Benef_Plano_Geo).xls'\n",
        "  \"\"\"\n",
        "  df = pd.read_excel(files[20], skiprows=3)\n",
        "  df = df.drop(index=[0],axis='rows')\n",
        "  df = df.drop(df.tail(5).index)\n",
        "  df = df.set_index(df.columns[0])\n",
        "  df.columns = [ \"_\".join([\"numero_beneficiarios_de_plano_de_saude\", str(c)]) for c in df.columns]\n",
        "  return df"
      ],
      "metadata": {
        "id": "RAEKhu2U2Vyg"
      },
      "execution_count": 175,
      "outputs": []
    },
    {
      "cell_type": "code",
      "source": [
        "def parsing_5_36():\n",
        "  \"\"\"\n",
        "  Parsing tabela 'Tabela 5.36 (Prof_ClinicoGeo).xlsm'\n",
        "  \"\"\"\n",
        "  df = pd.read_excel(files[21], skiprows=4)\n",
        "  df = df.set_index(df.columns[0])\n",
        "  df.columns = [ \"_\".join([\"numero_medio_mensal_de_clinicos_gerais\", str(c)]) for c in df.columns]\n",
        "  df = df.drop(df.tail(3).index)\n",
        "  return df"
      ],
      "metadata": {
        "id": "i_i5QpJ13bNx"
      },
      "execution_count": 182,
      "outputs": []
    }
  ]
}